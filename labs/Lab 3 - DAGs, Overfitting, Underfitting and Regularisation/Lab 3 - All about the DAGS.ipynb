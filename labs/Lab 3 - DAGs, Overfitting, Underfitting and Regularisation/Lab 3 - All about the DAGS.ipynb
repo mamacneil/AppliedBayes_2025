{
 "cells": [
  {
   "cell_type": "code",
   "metadata": {
    "ExecuteTime": {
     "end_time": "2025-10-10T11:42:24.948990Z",
     "start_time": "2025-10-10T11:42:24.691595Z"
    }
   },
   "source": [
    "# for pgmpy to work you will need to downgrade your version of numpy\n",
    "# pip install \"numpy<2.0\" pgmpy\n",
    "import numpy as np\n",
    "import pandas as pd\n",
    "import pymc as pm\n",
    "import arviz as az\n",
    "from matplotlib import pyplot as plt\n",
    "import networkx as nx\n",
    "# install R and dagitty first: install.packages(\"dagitty\")\n",
    "import rpy2.robjects as ro\n",
    "from rpy2.robjects.packages import importr\n",
    "\n",
    "# Import R's dagitty\n",
    "dagitty = importr('dagitty')"
   ],
   "outputs": [],
   "execution_count": 2
  },
  {
   "cell_type": "code",
   "metadata": {
    "ExecuteTime": {
     "end_time": "2025-10-10T11:42:26.606769Z",
     "start_time": "2025-10-10T11:42:26.602539Z"
    }
   },
   "source": [
    "# functions\n",
    "def sim_weight(lengths, sd, beta_w):\n",
    "    random_variation = np.random.normal(0, sd, len(lengths))  # random noise\n",
    "    weights = beta_w*lengths + random_variation\n",
    "    return weights\n",
    "\n",
    "def sim_colour(lengths, sd, beta_c):\n",
    "    random_variation = np.random.normal(0, sd, len(lengths))  # random noise\n",
    "    colour = beta_c*lengths + random_variation\n",
    "    return colour\n",
    "\n",
    "def sim_predation(colours, weights, sd, beta_c, beta_w):\n",
    "    random_variation = np.random.normal(0, sd, len(colours))  # random noise\n",
    "    predation = beta_c*colours + beta_w*weights + random_variation\n",
    "    return predation\n",
    "\n",
    "def sim_reproduction(colours, weights, sd, beta_c, beta_w):\n",
    "    random_variation = np.random.normal(0, sd, len(colours))  # random noise\n",
    "    reproduction = beta_c*colours + beta_w*weights + random_variation\n",
    "    return reproduction"
   ],
   "outputs": [],
   "execution_count": 3
  },
  {
   "cell_type": "markdown",
   "metadata": {},
   "source": [
    "# Lab 3 - All about the DAGS\n",
    "\n",
    "**Author:** Arun Oakley-Cogan  \n",
    "**Date:** 2025-10-06\n",
    "\n",
    "Our objective today is to revisit DAGS, and how we use statistical models to test if our DAGs are consistent with our data.\n",
    "\n",
    "\"DAGs are used to represent causal relationships within a given system. A DAG consists of a set of nodes (variables) that are connected to each other by edges (arrows). These arrows represent causal relationships between variables, pointing from cause to effect, with causes preceding their effects.\" (Arif & MacNeil, 2023)\n",
    "\n",
    "Once we have created a DAG, we can test it against our observed data to check for DAG-data consistency.\n",
    "\n",
    "What does this mean? A DAG often asserts multiple independencies (variables are considered to be independent of each other) that should be true in our data, if both the DAG and our data are representative of the system.\n",
    "\n",
    "In a DAG, a pair of variables can be independent of each other (e.g., Weight is independent of Colour) if there are no paths (i.e., a sequence of nodes and arrows) connecting them. Also, a pair of variables can be conditionally independent.\n",
    "\n",
    "Conditional independencies emerge from separating the dependency (blocking the path).\n",
    "\n",
    "For our DAG to be considered consistent with our data, all the independencies & conditional independencies need to hold true in our observed data. We can test for these."
   ]
  },
  {
   "cell_type": "markdown",
   "metadata": {},
   "source": [
    "## Fork\n",
    "\n",
    "When a node in our DAG is a common cause of two variables"
   ]
  },
  {
   "cell_type": "code",
   "metadata": {
    "ExecuteTime": {
     "end_time": "2025-10-10T11:44:31.205783Z",
     "start_time": "2025-10-10T11:44:30.988936Z"
    }
   },
   "source": [
    "# draw dag\n",
    "dag = dagitty.dagitty(\"dag{ Length -> Weight Length -> Colour }\")\n",
    "\n",
    "# extract edges for Python plotting\n",
    "edges_r = ro.r('function(d) { e <- edges(d); data.frame(from=e$v, to=e$w) }')(dag)\n",
    "edges = [(str(edges_r[0][i]), str(edges_r[1][i])) for i in range(len(edges_r[0]))]\n",
    "\n",
    "dag_nx = nx.DiGraph(edges)\n",
    "pos = {\n",
    "    'Length': (0, 0),      # x, y coordinates\n",
    "    'Weight': (-1, 1),\n",
    "    'Colour': (1, 1)\n",
    "}\n",
    "nx.draw(dag_nx, pos, with_labels=True, node_color='lightblue',\n",
    "        node_size=1500, arrowsize=20, arrows=True)\n",
    "plt.title(\"Fork DAG: Length -> Weight, Length -> Colour\")\n",
    "plt.show()"
   ],
   "outputs": [
    {
     "data": {
      "text/plain": [
       "<Figure size 640x480 with 1 Axes>"
      ],
      "image/png": "[encoded data removed]"
     },
     "metadata": {},
     "output_type": "display_data",
     "jetTransient": {
      "display_id": null
     }
    }
   ],
   "execution_count": 4
  },
  {
   "cell_type": "code",
   "metadata": {
    "ExecuteTime": {
     "end_time": "2025-10-10T11:45:02.472153Z",
     "start_time": "2025-10-10T11:45:02.458827Z"
    }
   },
   "source": [
    "# implied indepencies of DAG\n",
    "print(\"\\nImplied conditional independencies:\")\n",
    "print(dagitty.impliedConditionalIndependencies(dag))"
   ],
   "outputs": [
    {
     "name": "stdout",
     "output_type": "stream",
     "text": [
      "\n",
      "Implied conditional independencies:\n",
      "Colr _||_ Wght | Lngt\n",
      "\n"
     ]
    }
   ],
   "execution_count": 5
  },
  {
   "cell_type": "markdown",
   "metadata": {},
   "source": "What does this mean? We can read this statement as, conditional on us including `Length` in the model , `Weight` should be independent of `Colour` - that is, we should not see an effect if we regress them together. Let's do that and see."
  },
  {
   "cell_type": "code",
   "metadata": {
    "ExecuteTime": {
     "end_time": "2025-10-10T11:45:17.705403Z",
     "start_time": "2025-10-10T11:45:17.702146Z"
    }
   },
   "source": [
    "# number of frogs\n",
    "n_frog = 75\n",
    "# generate some lengths\n",
    "lengths = np.random.normal(0, 1, n_frog)\n",
    "# Length -> Weight\n",
    "weights = sim_weight(lengths, 1, 1)\n",
    "# Length -> Colour\n",
    "colours = sim_colour(lengths, 1, -1)\n",
    "\n",
    "# package data\n",
    "frog_data = {\n",
    "    'weights': weights,\n",
    "    'lengths': lengths,\n",
    "    'colours': colours\n",
    "}"
   ],
   "outputs": [],
   "execution_count": 6
  },
  {
   "cell_type": "code",
   "metadata": {
    "ExecuteTime": {
     "end_time": "2025-10-10T11:45:53.717537Z",
     "start_time": "2025-10-10T11:45:20.142215Z"
    }
   },
   "source": [
    "# test for independence\n",
    "# specify models\n",
    "with pm.Model() as fork_model_full:\n",
    "    # priors\n",
    "    alpha = pm.Normal(\"alpha\", 0, 0.2)\n",
    "    beta_c = pm.Normal(\"beta_c\", 0, 1)\n",
    "    beta_l = pm.Normal(\"beta_l\", 0, 0.5)\n",
    "    sigma = pm.Exponential(\"sigma\", 1)\n",
    "    \n",
    "    # linear model\n",
    "    mu = pm.Deterministic(\"mu\", alpha + beta_c*frog_data['colours'] + beta_l*frog_data['lengths'])\n",
    "    \n",
    "    # data likelihood\n",
    "    weights_obs = pm.Normal(\"weights\", mu, sigma, observed=frog_data['weights'])\n",
    "    \n",
    "with pm.Model() as fork_model_no_length:\n",
    "    # priors\n",
    "    alpha = pm.Normal(\"alpha\", 0, 0.2)\n",
    "    beta_c = pm.Normal(\"beta_c\", 0, 1)\n",
    "    sigma = pm.Exponential(\"sigma\", 1)\n",
    "\n",
    "    # linear model\n",
    "    mu = pm.Deterministic(\"mu\", alpha + beta_c*frog_data['colours'])\n",
    "\n",
    "    # data likelihood\n",
    "    weights_obs = pm.Normal(\"weights\", mu, sigma, observed=frog_data['weights'])\n",
    "\n",
    "# fit and sample models\n",
    "fork_full_idata = pm.sample(chains=4, model=fork_model_full)\n",
    "fork_no_length_idata = pm.sample(chains=4, model=fork_model_no_length)"
   ],
   "outputs": [
    {
     "name": "stderr",
     "output_type": "stream",
     "text": [
      "Initializing NUTS using jitter+adapt_diag...\n",
      "Multiprocess sampling (4 chains in 4 jobs)\n",
      "NUTS: [alpha, beta_c, beta_l, sigma]\n"
     ]
    },
    {
     "data": {
      "text/plain": [
       "/Users/aoakley/Library/Mobile \n",
       "Documents/com~apple~CloudDocs/Active_Projects/Dalhousie/AppliedBayes_2025/.venv/lib/python3.12/site-packages/rich/l\n",
       "ive.py:256: UserWarning: install \"ipywidgets\" for Jupyter support\n",
       "  warnings.warn('install \"ipywidgets\" for Jupyter support')\n"
      ],
      "text/html": [
       "<pre style=\"white-space:pre;overflow-x:auto;line-height:normal;font-family:Menlo,'DejaVu Sans Mono',consolas,'Courier New',monospace\">/Users/aoakley/Library/Mobile \n",
       "Documents/com~apple~CloudDocs/Active_Projects/Dalhousie/AppliedBayes_2025/.venv/lib/python3.12/site-packages/rich/l\n",
       "ive.py:256: UserWarning: install \"ipywidgets\" for Jupyter support\n",
       "  warnings.warn('install \"ipywidgets\" for Jupyter support')\n",
       "</pre>\n"
      ]
     },
     "metadata": {},
     "output_type": "display_data",
     "jetTransient": {
      "display_id": null
     }
    },
    {
     "data": {
      "text/plain": [],
      "text/html": [
       "<pre style=\"white-space:pre;overflow-x:auto;line-height:normal;font-family:Menlo,'DejaVu Sans Mono',consolas,'Courier New',monospace\"></pre>\n"
      ]
     },
     "metadata": {},
     "output_type": "display_data",
     "jetTransient": {
      "display_id": null
     }
    },
    {
     "name": "stderr",
     "output_type": "stream",
     "text": [
      "Sampling 4 chains for 1_000 tune and 1_000 draw iterations (4_000 + 4_000 draws total) took 15 seconds.\n",
      "Initializing NUTS using jitter+adapt_diag...\n",
      "Multiprocess sampling (4 chains in 4 jobs)\n",
      "NUTS: [alpha, beta_c, sigma]\n"
     ]
    },
    {
     "data": {
      "text/plain": [
       "/Users/aoakley/Library/Mobile \n",
       "Documents/com~apple~CloudDocs/Active_Projects/Dalhousie/AppliedBayes_2025/.venv/lib/python3.12/site-packages/rich/l\n",
       "ive.py:256: UserWarning: install \"ipywidgets\" for Jupyter support\n",
       "  warnings.warn('install \"ipywidgets\" for Jupyter support')\n"
      ],
      "text/html": [
       "<pre style=\"white-space:pre;overflow-x:auto;line-height:normal;font-family:Menlo,'DejaVu Sans Mono',consolas,'Courier New',monospace\">/Users/aoakley/Library/Mobile \n",
       "Documents/com~apple~CloudDocs/Active_Projects/Dalhousie/AppliedBayes_2025/.venv/lib/python3.12/site-packages/rich/l\n",
       "ive.py:256: UserWarning: install \"ipywidgets\" for Jupyter support\n",
       "  warnings.warn('install \"ipywidgets\" for Jupyter support')\n",
       "</pre>\n"
      ]
     },
     "metadata": {},
     "output_type": "display_data",
     "jetTransient": {
      "display_id": null
     }
    },
    {
     "data": {
      "text/plain": [],
      "text/html": [
       "<pre style=\"white-space:pre;overflow-x:auto;line-height:normal;font-family:Menlo,'DejaVu Sans Mono',consolas,'Courier New',monospace\"></pre>\n"
      ]
     },
     "metadata": {},
     "output_type": "display_data",
     "jetTransient": {
      "display_id": null
     }
    },
    {
     "name": "stderr",
     "output_type": "stream",
     "text": [
      "Sampling 4 chains for 1_000 tune and 1_000 draw iterations (4_000 + 4_000 draws total) took 14 seconds.\n"
     ]
    }
   ],
   "execution_count": 7
  },
  {
   "cell_type": "code",
   "metadata": {
    "ExecuteTime": {
     "end_time": "2025-10-10T11:45:54.150741Z",
     "start_time": "2025-10-10T11:45:53.725864Z"
    }
   },
   "source": [
    "# Compare models\n",
    "fig, axes = plt.subplots(1, 2, figsize=(12, 5))\n",
    "\n",
    "az.plot_forest(fork_full_idata, var_names=['alpha', 'beta_c', 'beta_l', 'sigma'], ax=axes[0])\n",
    "axes[0].set_title('Full Model (with Length)')\n",
    "\n",
    "az.plot_forest(fork_no_length_idata, var_names=['alpha', 'beta_c', 'sigma'], ax=axes[1])\n",
    "axes[1].set_title('Model without Length')\n",
    "\n",
    "plt.tight_layout()\n",
    "plt.show()"
   ],
   "outputs": [
    {
     "data": {
      "text/plain": [
       "<Figure size 1200x500 with 2 Axes>"
      ],
      "image/png": "[encoded data removed]"
     },
     "metadata": {},
     "output_type": "display_data",
     "jetTransient": {
      "display_id": null
     }
    }
   ],
   "execution_count": 8
  },
  {
   "cell_type": "markdown",
   "metadata": {},
   "source": [
    "Here you can see when we include length in the model, there is a zero effect size, indicating that colour has no effect on weight, and our independency holds. Our DAG is consistent with our data!\n",
    "\n",
    "In causal inference we are trying to understand causal effects of one variable on another. Effects (for now) can either be **direct** or **total** and they flow from an **exposure** to an **outcome**.\n",
    "\n",
    "Exposure and outcome are determined by your research question. Exposure is the variable with the causal effect you want to estimate. This is the cause you're interested in. The outcome is a variable you want to explain / predict. This is the effect you are measuring.\n",
    "\n",
    "A **direct** effect is the causal influence that flows from an **exposure** to an **outcome** directly along the arrows that connect them, they help us understand mechanisms. A **total** effect is the overall influence of exposure to the outcome through **all** causal pathways, total effects help us understand the overall impact."
   ]
  },
  {
   "metadata": {
    "ExecuteTime": {
     "end_time": "2025-10-10T11:46:10.954615Z",
     "start_time": "2025-10-10T11:46:10.936875Z"
    }
   },
   "cell_type": "code",
   "source": [
    "# adjustment sets\n",
    "print(dagitty.adjustmentSets(dag, exposure='Weight', outcome='Colour'))"
   ],
   "outputs": [
    {
     "name": "stdout",
     "output_type": "stream",
     "text": [
      "{ Length }\n",
      "\n"
     ]
    }
   ],
   "execution_count": 9
  },
  {
   "cell_type": "markdown",
   "metadata": {},
   "source": [
    "Conditioning on / adjusting for / including in your model will close backdoor paths if they exist for all elemental confounds EXCEPT for colliders, where including them will OPEN a backdoor path\n",
    "\n",
    "We can see here that by adjusting for length, we have closed the backdoor path between Weight and Colour, and can estimate the underlying effect of weight on colour."
   ]
  },
  {
   "metadata": {
    "ExecuteTime": {
     "end_time": "2025-10-10T11:49:52.038208Z",
     "start_time": "2025-10-10T11:49:52.014748Z"
    }
   },
   "cell_type": "code",
   "source": [
    "# paths\n",
    "print(dagitty.paths(dag, 'Weight', 'Colour'))\n",
    "print(dagitty.paths(dag, 'Weight', 'Colour', Z=ro.StrVector(['Length'])))"
   ],
   "outputs": [
    {
     "name": "stdout",
     "output_type": "stream",
     "text": [
      "$paths\n",
      "[1] \"Weight <- Length -> Colour\"\n",
      "\n",
      "$open\n",
      "[1] TRUE\n",
      "\n",
      "\n",
      "$paths\n",
      "[1] \"Weight <- Length -> Colour\"\n",
      "\n",
      "$open\n",
      "[1] FALSE\n",
      "\n",
      "\n"
     ]
    }
   ],
   "execution_count": 15
  },
  {
   "cell_type": "markdown",
   "metadata": {},
   "source": [
    "## Pipe\n",
    "\n",
    "Here, our causal assumptions are that:\n",
    "\n",
    "**Length** causes **Colour** which causes **Reproduction**\n",
    "\n",
    "**Length** causes **Weight** which also causes **Reproduction**"
   ]
  },
  {
   "cell_type": "code",
   "metadata": {
    "ExecuteTime": {
     "end_time": "2025-10-10T11:53:14.004246Z",
     "start_time": "2025-10-10T11:53:13.895644Z"
    }
   },
   "source": [
    "# draw dag\n",
    "dag = dagitty.dagitty(\"dag{ Length -> Weight Length -> Colour Colour-> Reproduction Weight-> Reproduction}\")\n",
    "\n",
    "# extract edges for Python plotting\n",
    "edges_r = ro.r('function(d) { e <- edges(d); data.frame(from=e$v, to=e$w) }')(dag)\n",
    "edges = [(str(edges_r[0][i]), str(edges_r[1][i])) for i in range(len(edges_r[0]))]\n",
    "\n",
    "dag_nx = nx.DiGraph(edges)\n",
    "# set coordinates\n",
    "pos = {\n",
    "    'Length': (0, 0),\n",
    "    'Weight': (1, 0),\n",
    "    'Colour': (0, 1),\n",
    "    'Reproduction': (1, 1)\n",
    "}\n",
    "# draw dag\n",
    "nx.draw(dag_nx, pos, with_labels=True, node_color='lightblue',\n",
    "        node_size=1500, arrowsize=20, arrows=True)\n",
    "plt.title(\"Pipe DAG: Length -> Weight/Colour -> Reproduction\")\n",
    "plt.show()\n"
   ],
   "outputs": [
    {
     "data": {
      "text/plain": [
       "<Figure size 640x480 with 1 Axes>"
      ],
      "image/png": "[encoded data removed]"
     },
     "metadata": {},
     "output_type": "display_data",
     "jetTransient": {
      "display_id": null
     }
    }
   ],
   "execution_count": 20
  },
  {
   "cell_type": "code",
   "metadata": {
    "ExecuteTime": {
     "end_time": "2025-10-10T11:53:42.940271Z",
     "start_time": "2025-10-10T11:53:42.932570Z"
    }
   },
   "source": [
    "# implied indepencies of DAG\n",
    "print(\"\\nImplied conditional independencies:\")\n",
    "print(dagitty.impliedConditionalIndependencies(dag))"
   ],
   "outputs": [
    {
     "name": "stdout",
     "output_type": "stream",
     "text": [
      "\n",
      "Implied conditional independencies:\n",
      "Colr _||_ Wght | Lngt\n",
      "Lngt _||_ Rprd | Colr, Wght\n",
      "\n"
     ]
    }
   ],
   "execution_count": 21
  },
  {
   "cell_type": "code",
   "metadata": {},
   "source": [
    "# colour -> reproduction, weight->reproduction\n",
    "reproduction = sim_reproduction(colours, weights, sd=1, beta_c=-1.5, beta_w=1)\n",
    "\n",
    "# add reproduction to data set\n",
    "frog_data['reproduction'] = reproduction"
   ],
   "outputs": [],
   "execution_count": null
  },
  {
   "cell_type": "code",
   "metadata": {},
   "source": [
    "# testing for independence\n",
    "with pm.Model() as pipe_model_full:\n",
    "    # priors\n",
    "    alpha = pm.Normal(\"alpha\", 0, 0.2)\n",
    "    beta_c = pm.Normal(\"beta_c\", 0, 1)\n",
    "    beta_l = pm.Normal(\"beta_l\", 0, 0.8)\n",
    "    beta_w = pm.Normal(\"beta_w\", 0, 0.5)\n",
    "    sigma = pm.Exponential(\"sigma\", 1)\n",
    "    \n",
    "    # linear model\n",
    "    mu = pm.Deterministic(\"mu\", alpha + beta_c*frog_data['colours'] + beta_l*frog_data['lengths'] + beta_w*frog_data['weights'])\n",
    "    \n",
    "    # data likelihood\n",
    "    reproduction_obs = pm.Normal(\"reproduction\", mu, sigma, observed=frog_data['reproduction'])\n",
    "\n",
    "with pm.Model() as pipe_model_no_cw:\n",
    "    # priors\n",
    "    alpha = pm.Normal(\"alpha\", 0, 0.2)\n",
    "    beta_l = pm.Normal(\"beta_l\", 0, 0.8)\n",
    "    sigma = pm.Exponential(\"sigma\", 1)\n",
    "\n",
    "    # linear model\n",
    "    mu = pm.Deterministic(\"mu\", alpha + beta_l*frog_data['lengths'])\n",
    "\n",
    "    # data likelihood\n",
    "    reproduction_obs = pm.Normal(\"reproduction\", mu, sigma, observed=frog_data['reproduction'])\n",
    "\n",
    "pipe_full_idata = pm.sample(chains=4, model=pipe_model_full)\n",
    "pipe_no_cw_idata = pm.sample(chains=4, model=pipe_model_no_cw)"
   ],
   "outputs": [],
   "execution_count": null
  },
  {
   "cell_type": "code",
   "metadata": {},
   "source": [
    "fig, axes = plt.subplots(1, 2, figsize=(12, 5))\n",
    "\n",
    "az.plot_forest(pipe_full_idata, var_names=['alpha', 'beta_c', 'beta_l', 'beta_w', 'sigma'], ax=axes[0])\n",
    "axes[0].set_title('Full Model (with Colour and Weight)')\n",
    "\n",
    "az.plot_forest(pipe_no_cw_idata, var_names=['alpha', 'beta_l', 'sigma'], ax=axes[1])\n",
    "axes[1].set_title('Model without Colour and Weight')\n",
    "\n",
    "plt.tight_layout()\n",
    "plt.show()"
   ],
   "outputs": [],
   "execution_count": null
  },
  {
   "cell_type": "code",
   "metadata": {
    "ExecuteTime": {
     "end_time": "2025-10-10T11:56:19.761942Z",
     "start_time": "2025-10-10T11:56:19.724043Z"
    }
   },
   "source": [
    "# adjustment sets\n",
    "print(dagitty.adjustmentSets(dag, exposure='Length', outcome='Reproduction', effect=\"total\"))\n",
    "print(dagitty.adjustmentSets(dag, exposure='Length', outcome='Reproduction', effect=\"direct\"))\n",
    "\n",
    "# paths\n",
    "print(dagitty.paths(dag, 'Weight', 'Colour'))\n",
    "print(dagitty.paths(dag, 'Weight', 'Colour', Z=ro.StrVector(['Colour', 'Weight'])))"
   ],
   "outputs": [
    {
     "name": "stdout",
     "output_type": "stream",
     "text": [
      " {}\n",
      "\n",
      "{ Colour, Weight }\n",
      "\n",
      "$paths\n",
      "[1] \"Weight -> Reproduction <- Colour\" \"Weight <- Length -> Colour\"      \n",
      "\n",
      "$open\n",
      "[1] FALSE  TRUE\n",
      "\n",
      "\n",
      "$paths\n",
      "[1] \"Weight -> Reproduction <- Colour\" \"Weight <- Length -> Colour\"      \n",
      "\n",
      "$open\n",
      "[1] FALSE FALSE\n",
      "\n",
      "\n"
     ]
    }
   ],
   "execution_count": 25
  },
  {
   "cell_type": "markdown",
   "metadata": {},
   "source": [
    "## Collider\n",
    "\n",
    "When a variable has two separate causes. Adjusting for colliders opens back door paths"
   ]
  },
  {
   "cell_type": "code",
   "metadata": {
    "ExecuteTime": {
     "end_time": "2025-10-10T11:57:43.934062Z",
     "start_time": "2025-10-10T11:57:43.808660Z"
    }
   },
   "source": [
    "# draw dag\n",
    "dag = dagitty.dagitty(\"dag{ Length -> Weight Length -> Colour Colour-> Reproduction Colour->Predation Weight->Predation Weight->Reproduction}\")\n",
    "\n",
    "# extract edges for Python plotting\n",
    "edges_r = ro.r('function(d) { e <- edges(d); data.frame(from=e$v, to=e$w) }')(dag)\n",
    "edges = [(str(edges_r[0][i]), str(edges_r[1][i])) for i in range(len(edges_r[0]))]\n",
    "\n",
    "dag_nx = nx.DiGraph(edges)\n",
    "# set coordinates\n",
    "pos = {\n",
    "    'Colour': (0, 0),\n",
    "    'Length': (0, 1),\n",
    "    'Reproduction': (1, 0),\n",
    "    'Weight': (1, 1),\n",
    "    'Predation': (0.5, 0.5)\n",
    "}\n",
    "# draw dag\n",
    "nx.draw(dag_nx, pos, with_labels=True, node_color='lightblue',\n",
    "        node_size=1500, arrowsize=20, arrows=True)\n",
    "plt.title(\"Collider DAG: Predation as collider\")\n",
    "plt.show()"
   ],
   "outputs": [
    {
     "data": {
      "text/plain": [
       "<Figure size 640x480 with 1 Axes>"
      ],
      "image/png": "[encoded data removed]"
     },
     "metadata": {},
     "output_type": "display_data",
     "jetTransient": {
      "display_id": null
     }
    }
   ],
   "execution_count": 26
  },
  {
   "cell_type": "code",
   "metadata": {
    "ExecuteTime": {
     "end_time": "2025-10-10T11:57:58.711022Z",
     "start_time": "2025-10-10T11:57:58.704151Z"
    }
   },
   "source": [
    "# implied indepencies of DAG\n",
    "print(\"\\nImplied conditional independencies:\")\n",
    "print(dagitty.impliedConditionalIndependencies(dag))"
   ],
   "outputs": [
    {
     "name": "stdout",
     "output_type": "stream",
     "text": [
      "\n",
      "Implied conditional independencies:\n",
      "Colr _||_ Wght | Lngt\n",
      "Lngt _||_ Prdt | Colr, Wght\n",
      "Lngt _||_ Rprd | Colr, Wght\n",
      "Prdt _||_ Rprd | Colr, Wght\n",
      "\n"
     ]
    }
   ],
   "execution_count": 27
  },
  {
   "cell_type": "markdown",
   "metadata": {},
   "source": [
    "### Simulate our data."
   ]
  },
  {
   "cell_type": "code",
   "metadata": {
    "ExecuteTime": {
     "end_time": "2025-10-10T01:08:36.875289Z",
     "start_time": "2025-10-10T01:08:36.872322Z"
    }
   },
   "source": [
    "# colour -> predation, weight -> predation\n",
    "predation = sim_predation(colours, weights, sd=1, beta_c=1.5, beta_w=1)\n",
    "\n",
    "# add predation to data set\n",
    "frog_data['predation'] = predation"
   ],
   "outputs": [],
   "execution_count": 39
  },
  {
   "cell_type": "code",
   "metadata": {
    "jupyter": {
     "is_executing": true
    }
   },
   "source": [
    "# Length _||_ Predation | Colour, Weight\n",
    "with pm.Model() as predation_model:\n",
    "    # priors\n",
    "    alpha = pm.Normal(\"alpha\", 0, 0.2)\n",
    "    beta_c = pm.Normal(\"beta_c\", 0, 1)\n",
    "    beta_l = pm.Normal(\"beta_l\", 0, 0.2)\n",
    "    beta_w = pm.Normal(\"beta_w\", 0, 0.5)\n",
    "    sigma = pm.Exponential(\"sigma\", 1)\n",
    "    \n",
    "    # linear model\n",
    "    mu = pm.Deterministic(\"mu\", alpha + beta_c*frog_data['colours'] + beta_l*frog_data['lengths'] + beta_w*frog_data['weights'])\n",
    "    \n",
    "    # data likelihood\n",
    "    predation_obs = pm.Normal(\"predation\", mu, sigma, observed=frog_data['predation'])\n",
    "\n",
    "# Length _||_ Reproduction | Colour, Weight\n",
    "with pm.Model() as predation_model2:\n",
    "    # priors\n",
    "    alpha = pm.Normal(\"alpha\", 0, 1)\n",
    "    beta_c = pm.Normal(\"beta_c\", 0, 1)\n",
    "    beta_r = pm.Normal(\"beta_r\", 0, 1)\n",
    "    beta_w = pm.Normal(\"beta_w\", 0, 0.5)\n",
    "    sigma = pm.Exponential(\"sigma\", 1)\n",
    "\n",
    "    # linear model\n",
    "    mu = pm.Deterministic(\"mu\", alpha + beta_c*frog_data['colours'] + beta_r*frog_data['reproduction'] + beta_w*frog_data['weights'])\n",
    "\n",
    "    # data likelihood\n",
    "    predation_obs = pm.Normal(\"predation\", mu, sigma, observed=frog_data['predation'])\n",
    "\n",
    "predation_idata = pm.sample(chains=4, model=predation_model)\n",
    "predation2_idata = pm.sample(chains=4, model=predation_model2)"
   ],
   "outputs": [],
   "execution_count": null
  },
  {
   "cell_type": "code",
   "metadata": {},
   "source": [
    "# Compare models\n",
    "fig, axes = plt.subplots(1, 2, figsize=(12, 5))\n",
    "\n",
    "az.plot_forest(predation_idata, var_names=['alpha', 'beta_c', 'beta_l', 'beta_w', 'sigma'], ax=axes[0])\n",
    "axes[0].set_title('Predation Model (with Length)')\n",
    "\n",
    "az.plot_forest(predation2_idata, var_names=['alpha', 'beta_c', 'beta_r', 'beta_w', 'sigma'], ax=axes[1])\n",
    "axes[1].set_title('Predation Model (with Reproduction)')\n",
    "\n",
    "plt.tight_layout()\n",
    "plt.show()"
   ],
   "outputs": [],
   "execution_count": null
  },
  {
   "cell_type": "markdown",
   "metadata": {},
   "source": [
    "Again, our conditional independencies hold true and we have DAG-DATA Consistency.\n",
    "\n",
    "What about our causal inference?"
   ]
  },
  {
   "cell_type": "code",
   "metadata": {
    "ExecuteTime": {
     "end_time": "2025-10-10T11:58:56.922507Z",
     "start_time": "2025-10-10T11:58:56.881259Z"
    }
   },
   "source": [
    "# adjustment sets\n",
    "print(dagitty.adjustmentSets(dag, exposure='Length', outcome='Reproduction', effect=\"total\"))\n",
    "print(dagitty.adjustmentSets(dag, exposure='Length', outcome='Reproduction', effect=\"direct\"))\n",
    "\n",
    "# paths\n",
    "print(dagitty.paths(dag, 'Length', 'Reproduction'))\n",
    "print(dagitty.paths(dag, 'Length', 'Reproduction', Z=ro.StrVector(['Predation'])))"
   ],
   "outputs": [
    {
     "name": "stdout",
     "output_type": "stream",
     "text": [
      " {}\n",
      "\n",
      "{ Colour, Weight }\n",
      "\n",
      "$paths\n",
      "[1] \"Length -> Colour -> Predation <- Weight -> Reproduction\"\n",
      "[2] \"Length -> Colour -> Reproduction\"                       \n",
      "[3] \"Length -> Weight -> Predation <- Colour -> Reproduction\"\n",
      "[4] \"Length -> Weight -> Reproduction\"                       \n",
      "\n",
      "$open\n",
      "[1] FALSE  TRUE FALSE  TRUE\n",
      "\n",
      "\n",
      "$paths\n",
      "[1] \"Length -> Colour -> Predation <- Weight -> Reproduction\"\n",
      "[2] \"Length -> Colour -> Reproduction\"                       \n",
      "[3] \"Length -> Weight -> Predation <- Colour -> Reproduction\"\n",
      "[4] \"Length -> Weight -> Reproduction\"                       \n",
      "\n",
      "$open\n",
      "[1] TRUE TRUE TRUE TRUE\n",
      "\n",
      "\n"
     ]
    }
   ],
   "execution_count": 28
  },
  {
   "cell_type": "markdown",
   "metadata": {},
   "source": [
    "**References**\n",
    "\n",
    "1. Arif S, MacNeil MA. Applying the structural causal model framework for observational causal inference in ecology. Ecological Monographs. 2023;93(1):e1554. \n",
    "2. Mcelreath R. Statistical Rethinking 2 A Bayesian Course with Examples in R and Stan Second Edition. 2nd ed. 2020."
   ]
  }
 ],
 "metadata": {
  "kernelspec": {
   "display_name": "Python 3",
   "language": "python",
   "name": "python3"
  },
  "language_info": {
   "codemirror_mode": {
    "name": "ipython",
    "version": 3
   },
   "file_extension": ".py",
   "mimetype": "text/x-python",
   "name": "python",
   "nbconvert_exporter": "python",
   "pygments_lexer": "ipython3",
   "version": "3.8.5"
  }
 },
 "nbformat": 4,
 "nbformat_minor": 4
}
