{
 "cells": [
  {
   "metadata": {},
   "cell_type": "markdown",
   "source": [
    "# Lab 1 - Our first model!\n",
    "\n",
    "Today we are going to build our first Bayesian model. We will use a simple coin toss example to illustrate the basic concepts of Bayesian modeling, including prior, likelihood, and posterior distributions."
   ],
   "id": "af3da96f92487ccf"
  },
  {
   "metadata": {},
   "cell_type": "markdown",
   "source": [
    "More common than tossing a globe, coin tosses are the randomization device of choice in many instances. ‘Heads or tails?’ we may say. But how fair is that coin anyhow? Let's find out!\n",
    "\n",
    "Firstly, we need some observed data. Grab a coin and flip it 10 times recording each observation of Heads (0) or Tails (1)."
   ],
   "id": "b81e03f4e2109e36"
  },
  {
   "metadata": {},
   "cell_type": "markdown",
   "source": [
    "1. Using your real world data, build a Bayesian model that estimates the posterior probability of getting a heads using with a uniform prior. Build a model using both the grid approximation and MCMC Methods (ulam or pymc).\n",
    "2. Create plots of the prior, and posterior distributions for both models. How do the results compare?"
   ],
   "id": "37a438af0209fc44"
  },
  {
   "cell_type": "code",
   "execution_count": null,
   "id": "initial_id",
   "metadata": {
    "collapsed": true
   },
   "outputs": [],
   "source": "# import necessary libraries and define functions"
  },
  {
   "metadata": {},
   "cell_type": "code",
   "outputs": [],
   "execution_count": null,
   "source": "# grid approximation",
   "id": "d0148c180cab60d0"
  },
  {
   "metadata": {},
   "cell_type": "code",
   "outputs": [],
   "execution_count": null,
   "source": "# pymc model",
   "id": "7aae5f3b86920cca"
  },
  {
   "metadata": {},
   "cell_type": "markdown",
   "source": [
    "3. Define each component (parameters, prior distribution, likelihood, posterior distribution) of your model and what role they are playing in the estimation of your model.\n",
    "\n"
   ],
   "id": "25847ed91e147a25"
  },
  {
   "metadata": {},
   "cell_type": "markdown",
   "source": [
    "- Parameters\n",
    "- Prior Distribution\n",
    "- Likelihood\n",
    "- Posterior Distribution"
   ],
   "id": "88fd70cb43a7c936"
  },
  {
   "metadata": {},
   "cell_type": "markdown",
   "source": [
    "4. If I were looking to make a critical decision based on your coin, with heads (0) being pinot noir and tails (1) being chardonnay, devise a prior that would ensure a 75% posterior probability of having the pinot (i.e. where 75% of the posterior is >0.5). You can do this using either the grid approximation or pymc.\n",
    "\n",
    "5. Create plots of the prior, and posterior distributions."
   ],
   "id": "27c2419f0633fbda"
  }
 ],
 "metadata": {
  "kernelspec": {
   "display_name": "Python 3",
   "language": "python",
   "name": "python3"
  },
  "language_info": {
   "codemirror_mode": {
    "name": "ipython",
    "version": 2
   },
   "file_extension": ".py",
   "mimetype": "text/x-python",
   "name": "python",
   "nbconvert_exporter": "python",
   "pygments_lexer": "ipython2",
   "version": "2.7.6"
  }
 },
 "nbformat": 4,
 "nbformat_minor": 5
}
