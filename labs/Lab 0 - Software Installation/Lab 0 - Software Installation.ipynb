{
 "cells": [
  {
   "metadata": {},
   "cell_type": "markdown",
   "source": [
    "1. Conda (Command Line environment manager for Python)\n",
    "\n",
    "https://conda.io/projects/conda/en/latest/user-guide/install/index.html\n",
    "\n",
    "2. Create environment\n",
    "\n",
    "https://conda.io/projects/conda/en/latest/user-guide/tasks/manage-environments.html\n",
    "\n",
    "3. Activate environment\n",
    "\n",
    "https://conda.io/projects/conda/en/latest/user-guide/tasks/manage-environments.html#activating-an-environment\n",
    "\n",
    "4. Install packages into environment: jupyter, pymc, arviz\n",
    "\n",
    "https://conda.io/projects/conda/en/latest/user-guide/tasks/manage-pkgs.html#installing-packages\n",
    "\n",
    "5. Run jupyter, create notebook and test\n",
    "\n"
   ],
   "id": "dc01a3d410940ba7"
  },
  {
   "cell_type": "code",
   "execution_count": null,
   "id": "initial_id",
   "metadata": {
    "collapsed": true
   },
   "outputs": [],
   "source": [
    "# Test Code\n",
    "import numpy as np\n",
    "import pandas as pd\n",
    "import pymc as pm\n",
    "import arviz as az\n",
    "\n",
    "with pm.Model() as test_model:\n",
    "    sigma = pm.Exponential('sigma', 1) # sigma prior\n",
    "    mu = pm.Normal('mean', 0, 1) # mu prior\n",
    "    y = pm.Normal('y', mu, sigma, observed=np.arange(-1,1)) # data likelihood\n",
    "    idata = pm.sample() # sample from posterior\n",
    "\n",
    "az.summary(idata)"
   ]
  }
 ],
 "metadata": {
  "kernelspec": {
   "display_name": "Python 3",
   "language": "python",
   "name": "python3"
  },
  "language_info": {
   "codemirror_mode": {
    "name": "ipython",
    "version": 2
   },
   "file_extension": ".py",
   "mimetype": "text/x-python",
   "name": "python",
   "nbconvert_exporter": "python",
   "pygments_lexer": "ipython2",
   "version": "2.7.6"
  }
 },
 "nbformat": 4,
 "nbformat_minor": 5
}
